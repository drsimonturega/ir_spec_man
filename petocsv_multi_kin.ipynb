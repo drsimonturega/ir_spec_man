{
  "nbformat": 4,
  "nbformat_minor": 0,
  "metadata": {
    "colab": {
      "provenance": [],
      "include_colab_link": true
    },
    "kernelspec": {
      "name": "python3",
      "display_name": "Python 3"
    },
    "language_info": {
      "name": "python"
    }
  },
  "cells": [
    {
      "cell_type": "markdown",
      "metadata": {
        "id": "view-in-github",
        "colab_type": "text"
      },
      "source": [
        "<a href=\"https://colab.research.google.com/github/drsimonturega/ir_spec_man/blob/main/petocsv_multi_kin.ipynb\" target=\"_parent\"><img src=\"https://colab.research.google.com/assets/colab-badge.svg\" alt=\"Open In Colab\"/></a>"
      ]
    },
    {
      "cell_type": "markdown",
      "source": [
        "# Infrared multi-spectral manipulation: *.asp to *.csv\n",
        "### This it the multi sprcta version\n",
        "### You need to be logged into your google acount to use this code\n",
        "### There are three sections of code that need to be run in sequence;\n",
        "- ### Lab book code for this experiemnt\n",
        "- ### Upload your .asp spectra files (.asp from a Agilent ATR-FTIR spectrometer)\n",
        "- ### Extract data from *.asp to transposed *.csv\n",
        "\n",
        "### This will provide a *.zip file for download containing your orginal files and your spectra as a transposed *.csv."
      ],
      "metadata": {
        "id": "xD6ZERcE6aUr"
      }
    },
    {
      "cell_type": "code",
      "source": [
        "# @title ## Lab book code for first experiemnt\n",
        "# @markdown ### Enter the lab book code for the first experiemnt\n",
        "lab_book_code = 'smt_test_004' # @param {type:\"string\"}\n",
        "time_point = 0 # @param {type:\"number\"}\n",
        "import os\n",
        "import shutil\n",
        "\n",
        "os.chdir(\"/content\")\n",
        "try:\n",
        "    os.mkdir(lab_book_code)\n",
        "except FileExistsError:\n",
        "    print(f'A folder for {lab_book_code} already exists you may over write your\\\n",
        "        data if you continue')\n",
        "    #the lines below remove the folder! not currently implimented\n",
        "    #os.chdir(\"..\")\n",
        "    #shutil.rmtree(lab_book_code)\n",
        "try:\n",
        "    !pwd\n",
        "    os.chdir(lab_book_code)\n",
        "    !pwd\n",
        "except FileNotFoundError:\n",
        "    print(f'try again')\n",
        "\n"
      ],
      "metadata": {
        "id": "PxVo8wkKVsGZ",
        "colab": {
          "base_uri": "https://localhost:8080/"
        },
        "outputId": "128378d7-9bcc-462c-f6da-879862953570"
      },
      "execution_count": 5,
      "outputs": [
        {
          "output_type": "stream",
          "name": "stdout",
          "text": [
            "/content\n",
            "/content/smt_test_004\n"
          ]
        }
      ]
    },
    {
      "cell_type": "markdown",
      "source": [
        "## Upload your .asp spectra file (.asp from a Agilent ATR-FTIR spectrometer)\n",
        "\n"
      ],
      "metadata": {
        "id": "lP-zbOPs7fV4"
      }
    },
    {
      "cell_type": "code",
      "source": [
        "from google.colab import files\n",
        "\n",
        "uploaded = files.upload()\n",
        "\n",
        "for fn in uploaded.keys():\n",
        "  print('User uploaded file \"{name}\" with length {length} bytes'.format(\n",
        "      name=fn, length=len(uploaded[fn])))\n",
        "spec_list = list(uploaded.keys())\n",
        "print(f'{spec_list}')\n",
        "#spec_trans(str)\n",
        "for i in range(len(spec_list)):\n",
        "    spec_list[i] = str(spec_list[i])\n",
        "    spec_trans = spec_list[i]\n",
        "    #print(f'spec_trans')\n",
        "    spec_trans = spec_trans[:-4]\n",
        "    spec_list[i] = spec_trans\n"
      ],
      "metadata": {
        "colab": {
          "base_uri": "https://localhost:8080/",
          "height": 316
        },
        "id": "9V4f9wrf6cm-",
        "outputId": "d76c6882-75fc-4c2b-8dc1-c4b6f83125bb"
      },
      "execution_count": 6,
      "outputs": [
        {
          "output_type": "display_data",
          "data": {
            "text/plain": [
              "<IPython.core.display.HTML object>"
            ],
            "text/html": [
              "\n",
              "     <input type=\"file\" id=\"files-17e60498-77a6-4eee-a594-4da357f5c923\" name=\"files[]\" multiple disabled\n",
              "        style=\"border:none\" />\n",
              "     <output id=\"result-17e60498-77a6-4eee-a594-4da357f5c923\">\n",
              "      Upload widget is only available when the cell has been executed in the\n",
              "      current browser session. Please rerun this cell to enable.\n",
              "      </output>\n",
              "      <script>// Copyright 2017 Google LLC\n",
              "//\n",
              "// Licensed under the Apache License, Version 2.0 (the \"License\");\n",
              "// you may not use this file except in compliance with the License.\n",
              "// You may obtain a copy of the License at\n",
              "//\n",
              "//      http://www.apache.org/licenses/LICENSE-2.0\n",
              "//\n",
              "// Unless required by applicable law or agreed to in writing, software\n",
              "// distributed under the License is distributed on an \"AS IS\" BASIS,\n",
              "// WITHOUT WARRANTIES OR CONDITIONS OF ANY KIND, either express or implied.\n",
              "// See the License for the specific language governing permissions and\n",
              "// limitations under the License.\n",
              "\n",
              "/**\n",
              " * @fileoverview Helpers for google.colab Python module.\n",
              " */\n",
              "(function(scope) {\n",
              "function span(text, styleAttributes = {}) {\n",
              "  const element = document.createElement('span');\n",
              "  element.textContent = text;\n",
              "  for (const key of Object.keys(styleAttributes)) {\n",
              "    element.style[key] = styleAttributes[key];\n",
              "  }\n",
              "  return element;\n",
              "}\n",
              "\n",
              "// Max number of bytes which will be uploaded at a time.\n",
              "const MAX_PAYLOAD_SIZE = 100 * 1024;\n",
              "\n",
              "function _uploadFiles(inputId, outputId) {\n",
              "  const steps = uploadFilesStep(inputId, outputId);\n",
              "  const outputElement = document.getElementById(outputId);\n",
              "  // Cache steps on the outputElement to make it available for the next call\n",
              "  // to uploadFilesContinue from Python.\n",
              "  outputElement.steps = steps;\n",
              "\n",
              "  return _uploadFilesContinue(outputId);\n",
              "}\n",
              "\n",
              "// This is roughly an async generator (not supported in the browser yet),\n",
              "// where there are multiple asynchronous steps and the Python side is going\n",
              "// to poll for completion of each step.\n",
              "// This uses a Promise to block the python side on completion of each step,\n",
              "// then passes the result of the previous step as the input to the next step.\n",
              "function _uploadFilesContinue(outputId) {\n",
              "  const outputElement = document.getElementById(outputId);\n",
              "  const steps = outputElement.steps;\n",
              "\n",
              "  const next = steps.next(outputElement.lastPromiseValue);\n",
              "  return Promise.resolve(next.value.promise).then((value) => {\n",
              "    // Cache the last promise value to make it available to the next\n",
              "    // step of the generator.\n",
              "    outputElement.lastPromiseValue = value;\n",
              "    return next.value.response;\n",
              "  });\n",
              "}\n",
              "\n",
              "/**\n",
              " * Generator function which is called between each async step of the upload\n",
              " * process.\n",
              " * @param {string} inputId Element ID of the input file picker element.\n",
              " * @param {string} outputId Element ID of the output display.\n",
              " * @return {!Iterable<!Object>} Iterable of next steps.\n",
              " */\n",
              "function* uploadFilesStep(inputId, outputId) {\n",
              "  const inputElement = document.getElementById(inputId);\n",
              "  inputElement.disabled = false;\n",
              "\n",
              "  const outputElement = document.getElementById(outputId);\n",
              "  outputElement.innerHTML = '';\n",
              "\n",
              "  const pickedPromise = new Promise((resolve) => {\n",
              "    inputElement.addEventListener('change', (e) => {\n",
              "      resolve(e.target.files);\n",
              "    });\n",
              "  });\n",
              "\n",
              "  const cancel = document.createElement('button');\n",
              "  inputElement.parentElement.appendChild(cancel);\n",
              "  cancel.textContent = 'Cancel upload';\n",
              "  const cancelPromise = new Promise((resolve) => {\n",
              "    cancel.onclick = () => {\n",
              "      resolve(null);\n",
              "    };\n",
              "  });\n",
              "\n",
              "  // Wait for the user to pick the files.\n",
              "  const files = yield {\n",
              "    promise: Promise.race([pickedPromise, cancelPromise]),\n",
              "    response: {\n",
              "      action: 'starting',\n",
              "    }\n",
              "  };\n",
              "\n",
              "  cancel.remove();\n",
              "\n",
              "  // Disable the input element since further picks are not allowed.\n",
              "  inputElement.disabled = true;\n",
              "\n",
              "  if (!files) {\n",
              "    return {\n",
              "      response: {\n",
              "        action: 'complete',\n",
              "      }\n",
              "    };\n",
              "  }\n",
              "\n",
              "  for (const file of files) {\n",
              "    const li = document.createElement('li');\n",
              "    li.append(span(file.name, {fontWeight: 'bold'}));\n",
              "    li.append(span(\n",
              "        `(${file.type || 'n/a'}) - ${file.size} bytes, ` +\n",
              "        `last modified: ${\n",
              "            file.lastModifiedDate ? file.lastModifiedDate.toLocaleDateString() :\n",
              "                                    'n/a'} - `));\n",
              "    const percent = span('0% done');\n",
              "    li.appendChild(percent);\n",
              "\n",
              "    outputElement.appendChild(li);\n",
              "\n",
              "    const fileDataPromise = new Promise((resolve) => {\n",
              "      const reader = new FileReader();\n",
              "      reader.onload = (e) => {\n",
              "        resolve(e.target.result);\n",
              "      };\n",
              "      reader.readAsArrayBuffer(file);\n",
              "    });\n",
              "    // Wait for the data to be ready.\n",
              "    let fileData = yield {\n",
              "      promise: fileDataPromise,\n",
              "      response: {\n",
              "        action: 'continue',\n",
              "      }\n",
              "    };\n",
              "\n",
              "    // Use a chunked sending to avoid message size limits. See b/62115660.\n",
              "    let position = 0;\n",
              "    do {\n",
              "      const length = Math.min(fileData.byteLength - position, MAX_PAYLOAD_SIZE);\n",
              "      const chunk = new Uint8Array(fileData, position, length);\n",
              "      position += length;\n",
              "\n",
              "      const base64 = btoa(String.fromCharCode.apply(null, chunk));\n",
              "      yield {\n",
              "        response: {\n",
              "          action: 'append',\n",
              "          file: file.name,\n",
              "          data: base64,\n",
              "        },\n",
              "      };\n",
              "\n",
              "      let percentDone = fileData.byteLength === 0 ?\n",
              "          100 :\n",
              "          Math.round((position / fileData.byteLength) * 100);\n",
              "      percent.textContent = `${percentDone}% done`;\n",
              "\n",
              "    } while (position < fileData.byteLength);\n",
              "  }\n",
              "\n",
              "  // All done.\n",
              "  yield {\n",
              "    response: {\n",
              "      action: 'complete',\n",
              "    }\n",
              "  };\n",
              "}\n",
              "\n",
              "scope.google = scope.google || {};\n",
              "scope.google.colab = scope.google.colab || {};\n",
              "scope.google.colab._files = {\n",
              "  _uploadFiles,\n",
              "  _uploadFilesContinue,\n",
              "};\n",
              "})(self);\n",
              "</script> "
            ]
          },
          "metadata": {}
        },
        {
          "output_type": "stream",
          "name": "stdout",
          "text": [
            "Saving Administrator 04.csv to Administrator 04.csv\n",
            "Saving Administrator 05.csv to Administrator 05.csv\n",
            "Saving Administrator 06.csv to Administrator 06.csv\n",
            "Saving Administrator 07.csv to Administrator 07.csv\n",
            "Saving Administrator 08.csv to Administrator 08.csv\n",
            "User uploaded file \"Administrator 04.csv\" with length 54389 bytes\n",
            "User uploaded file \"Administrator 05.csv\" with length 54560 bytes\n",
            "User uploaded file \"Administrator 06.csv\" with length 54888 bytes\n",
            "User uploaded file \"Administrator 07.csv\" with length 54449 bytes\n",
            "User uploaded file \"Administrator 08.csv\" with length 54514 bytes\n",
            "['Administrator 04.csv', 'Administrator 05.csv', 'Administrator 06.csv', 'Administrator 07.csv', 'Administrator 08.csv']\n"
          ]
        }
      ]
    },
    {
      "cell_type": "markdown",
      "source": [
        "### Extract data from *.asp to transposed *.csv"
      ],
      "metadata": {
        "id": "QgL31JCuy7_n"
      }
    },
    {
      "cell_type": "code",
      "source": [
        "import os\n",
        "import pandas as pd\n",
        "import numpy as np\n",
        "from datetime import datetime\n",
        "import matplotlib.pyplot as plt\n",
        "from matplotlib.ticker import ScalarFormatter\n",
        "from sklearn.linear_model import LinearRegression\n",
        "import statistics\n",
        "from tabulate import tabulate\n",
        "#from google.colab import files\n",
        "import shutil\n",
        "\n",
        "\n",
        "class asptospectocsv():\n",
        "\n",
        "\n",
        "    def __init__(self, asp_input):\n",
        "        return\n",
        "\n",
        "    def spec_import(self, spec_sht_name):\n",
        "        #importing spectra from .asp from a waters? ATR-FTIR spectrometer\n",
        "        spec_inp= pd.DataFrame()\n",
        "        try:\n",
        "            spec_inp = pd.read_csv(spec_sht_name + '.csv')\n",
        "        except PermissionError:\n",
        "            print('The file we are trying to open may be open in another \\\n",
        "                program, please close and try again!')\n",
        "        return spec_inp\n",
        "\n",
        "    def spec_trans(self, spec_inp):\n",
        "        # transpose spectra and set wave number as column title\n",
        "        try:\n",
        "            spec_inp = pd.DataFrame.transpose(spec_inp)\n",
        "            spec_inp = spec_inp.drop(axis=1, columns=[0])\n",
        "            spec_inp = spec_inp.reset_index(drop=True)\n",
        "            spec_inp.rename(columns= spec_inp.iloc[0,0:], inplace=True)\n",
        "            spec_inp = spec_inp.reset_index(drop=True)\n",
        "            spec_inp = pd.DataFrame.drop(spec_inp, axis=0, index=0)\n",
        "            spec_inp = spec_inp.reset_index(drop=True)\n",
        "            spec_inp.drop(spec_inp.tail(1).index,inplace=True)\n",
        "        except IndexError:\n",
        "            print('Check the your input file!')\n",
        "        spec_inp.insert(0, \"experiment\", lab_book_code)\n",
        "        spec_inp.insert(1, \"t / hr\", time_point)\n",
        "        return spec_inp\n",
        "\n",
        "    def spec_trans_multi(self, spec_list):\n",
        "      spec_new = pd.DataFrame()\n",
        "      spec_n = asptospectocsv.spec_import(self, spec_list[0])\n",
        "      spec_new = asptospectocsv.spec_trans(self, spec_n )\n",
        "      for i in range(1,(len(spec_list))):\n",
        "        spec_n = asptospectocsv.spec_import(self, spec_list[i])\n",
        "        spec_trans = asptospectocsv.spec_trans(self, spec_n)\n",
        "        spec_new.loc[i] = spec_trans.loc[0]\n",
        "      #print(spec_trans)\n",
        "      print(spec_new)\n",
        "\n",
        "      return spec_new\n",
        "\n",
        "    def savendl(self,spec_new):\n",
        "      print(f'what is this {spec_new}')\n",
        "      try: #output results\n",
        "            spec_new.to_csv(\"ir_\" + lab_book_code + \".csv\",index=False)\n",
        "      except PermissionError:\n",
        "            print('The file we are trying to open may be open in another \\\n",
        "                program, please close and try again!')\n",
        "      os.chdir(\"/content\")\n",
        "      shutil.make_archive(lab_book_code, 'zip', lab_book_code)\n",
        "      files.download(f'{lab_book_code}.zip')\n",
        "      #os.chdir(lab_book_code) #move this or make a function\n",
        "      return\n",
        "\n",
        "    def extend_prep(lab_book_code):\n",
        "        os.chdir(lab_book_code)\n",
        "        return\n",
        "\n",
        "specasp = asptospectocsv(spec_list)\n",
        "\n",
        "loop_csv = asptospectocsv.spec_trans_multi(specasp, spec_list)\n",
        "asptospectocsv.savendl(specasp, loop_csv)\n",
        "\n",
        "\n",
        "\n"
      ],
      "metadata": {
        "colab": {
          "base_uri": "https://localhost:8080/",
          "height": 798
        },
        "id": "j5vLEOGj6EGW",
        "outputId": "3b2b822d-1293-4c59-82f8-52010137f584"
      },
      "execution_count": 12,
      "outputs": [
        {
          "output_type": "stream",
          "name": "stdout",
          "text": [
            "     experiment  t / hr  4000.00  3999.00  3998.00  3997.00  3996.00  3995.00  \\\n",
            "0  smt_test_004       0   0.0006   0.0006   0.0006   0.0006   0.0007   0.0007   \n",
            "1  smt_test_004       0   0.0002   0.0002   0.0001   0.0001   0.0001   0.0001   \n",
            "2  smt_test_004       0  -0.0019  -0.0019  -0.0019  -0.0020  -0.0020  -0.0020   \n",
            "3  smt_test_004       0  -0.0031  -0.0031  -0.0030  -0.0030  -0.0031  -0.0031   \n",
            "4  smt_test_004       0  -0.0035  -0.0035  -0.0036  -0.0036  -0.0037  -0.0037   \n",
            "\n",
            "   3994.00  3993.00  ...  659.00  658.00  657.00  656.00  655.00  654.00  \\\n",
            "0   0.0007   0.0006  ...  0.1276  0.1276  0.1275  0.1273  0.1269  0.1267   \n",
            "1   0.0001   0.0000  ...  0.0751  0.0756  0.0760  0.0763  0.0769  0.0773   \n",
            "2  -0.0021  -0.0020  ...  0.0639  0.0645  0.0652  0.0654  0.0653  0.0652   \n",
            "3  -0.0032  -0.0032  ...  0.2781  0.2787  0.2792  0.2796  0.2795  0.2792   \n",
            "4  -0.0037  -0.0037  ...  0.3499  0.3497  0.3491  0.3482  0.3470  0.3457   \n",
            "\n",
            "   653.00  652.00  651.00  650.00  \n",
            "0  0.1273  0.1281  0.1291  0.1299  \n",
            "1  0.0779  0.0789  0.0800  0.0812  \n",
            "2  0.0656  0.0668  0.0683  0.0698  \n",
            "3  0.2798  0.2808  0.2821  0.2832  \n",
            "4  0.3452  0.3455  0.3459  0.3459  \n",
            "\n",
            "[5 rows x 3353 columns]\n",
            "what is this      experiment  t / hr  4000.00  3999.00  3998.00  3997.00  3996.00  3995.00  \\\n",
            "0  smt_test_004       0   0.0006   0.0006   0.0006   0.0006   0.0007   0.0007   \n",
            "1  smt_test_004       0   0.0002   0.0002   0.0001   0.0001   0.0001   0.0001   \n",
            "2  smt_test_004       0  -0.0019  -0.0019  -0.0019  -0.0020  -0.0020  -0.0020   \n",
            "3  smt_test_004       0  -0.0031  -0.0031  -0.0030  -0.0030  -0.0031  -0.0031   \n",
            "4  smt_test_004       0  -0.0035  -0.0035  -0.0036  -0.0036  -0.0037  -0.0037   \n",
            "\n",
            "   3994.00  3993.00  ...  659.00  658.00  657.00  656.00  655.00  654.00  \\\n",
            "0   0.0007   0.0006  ...  0.1276  0.1276  0.1275  0.1273  0.1269  0.1267   \n",
            "1   0.0001   0.0000  ...  0.0751  0.0756  0.0760  0.0763  0.0769  0.0773   \n",
            "2  -0.0021  -0.0020  ...  0.0639  0.0645  0.0652  0.0654  0.0653  0.0652   \n",
            "3  -0.0032  -0.0032  ...  0.2781  0.2787  0.2792  0.2796  0.2795  0.2792   \n",
            "4  -0.0037  -0.0037  ...  0.3499  0.3497  0.3491  0.3482  0.3470  0.3457   \n",
            "\n",
            "   653.00  652.00  651.00  650.00  \n",
            "0  0.1273  0.1281  0.1291  0.1299  \n",
            "1  0.0779  0.0789  0.0800  0.0812  \n",
            "2  0.0656  0.0668  0.0683  0.0698  \n",
            "3  0.2798  0.2808  0.2821  0.2832  \n",
            "4  0.3452  0.3455  0.3459  0.3459  \n",
            "\n",
            "[5 rows x 3353 columns]\n"
          ]
        },
        {
          "output_type": "display_data",
          "data": {
            "text/plain": [
              "<IPython.core.display.Javascript object>"
            ],
            "application/javascript": [
              "\n",
              "    async function download(id, filename, size) {\n",
              "      if (!google.colab.kernel.accessAllowed) {\n",
              "        return;\n",
              "      }\n",
              "      const div = document.createElement('div');\n",
              "      const label = document.createElement('label');\n",
              "      label.textContent = `Downloading \"${filename}\": `;\n",
              "      div.appendChild(label);\n",
              "      const progress = document.createElement('progress');\n",
              "      progress.max = size;\n",
              "      div.appendChild(progress);\n",
              "      document.body.appendChild(div);\n",
              "\n",
              "      const buffers = [];\n",
              "      let downloaded = 0;\n",
              "\n",
              "      const channel = await google.colab.kernel.comms.open(id);\n",
              "      // Send a message to notify the kernel that we're ready.\n",
              "      channel.send({})\n",
              "\n",
              "      for await (const message of channel.messages) {\n",
              "        // Send a message to notify the kernel that we're ready.\n",
              "        channel.send({})\n",
              "        if (message.buffers) {\n",
              "          for (const buffer of message.buffers) {\n",
              "            buffers.push(buffer);\n",
              "            downloaded += buffer.byteLength;\n",
              "            progress.value = downloaded;\n",
              "          }\n",
              "        }\n",
              "      }\n",
              "      const blob = new Blob(buffers, {type: 'application/binary'});\n",
              "      const a = document.createElement('a');\n",
              "      a.href = window.URL.createObjectURL(blob);\n",
              "      a.download = filename;\n",
              "      div.appendChild(a);\n",
              "      a.click();\n",
              "      div.remove();\n",
              "    }\n",
              "  "
            ]
          },
          "metadata": {}
        },
        {
          "output_type": "display_data",
          "data": {
            "text/plain": [
              "<IPython.core.display.Javascript object>"
            ],
            "application/javascript": [
              "download(\"download_f46cea09-60f7-4e35-8529-ec8421ecd766\", \"smt_test_004.zip\", 100270)"
            ]
          },
          "metadata": {}
        }
      ]
    },
    {
      "cell_type": "code",
      "source": [
        "# @title ## Lab book code for this experiemnt\n",
        "# @markdown ### Enter the lab book code for this experiemnt\n",
        "lab_book_code = 'smt_test_001' # @param {type:\"string\"}\n",
        "import os\n",
        "import shutil\n",
        "\n",
        "os.chdir(\"/content\")\n",
        "try:\n",
        "    os.mkdir(lab_book_code)\n",
        "except FileExistsError:\n",
        "    print(f'A folder for {lab_book_code} already exists you may over write your\\\n",
        "        data if you continue')\n",
        "    #the lines below remove the folder! not currently implimented\n",
        "    #os.chdir(\"..\")\n",
        "    #shutil.rmtree(lab_book_code)\n",
        "try:\n",
        "    !pwd\n",
        "    os.chdir(lab_book_code)\n",
        "    !pwd\n",
        "except FileNotFoundError:\n",
        "    print(f'try again')\n",
        "\n"
      ],
      "metadata": {
        "id": "N4gsxoCjabSZ"
      },
      "execution_count": null,
      "outputs": []
    },
    {
      "cell_type": "code",
      "source": [
        "pwd"
      ],
      "metadata": {
        "colab": {
          "base_uri": "https://localhost:8080/",
          "height": 35
        },
        "id": "ZlIuqa-qT_wF",
        "outputId": "8ae45cda-b374-45e9-f63c-af9b206b6520"
      },
      "execution_count": 16,
      "outputs": [
        {
          "output_type": "execute_result",
          "data": {
            "text/plain": [
              "'/content/smt_test_003'"
            ],
            "application/vnd.google.colaboratory.intrinsic+json": {
              "type": "string"
            }
          },
          "metadata": {},
          "execution_count": 16
        }
      ]
    },
    {
      "cell_type": "code",
      "source": [
        "ls"
      ],
      "metadata": {
        "colab": {
          "base_uri": "https://localhost:8080/"
        },
        "id": "KfVJUDLYUAag",
        "outputId": "2ece50d5-069b-475e-dd7b-d48657baedaf"
      },
      "execution_count": 17,
      "outputs": [
        {
          "output_type": "stream",
          "name": "stdout",
          "text": [
            "'Administrator 02.csv'  'Administrator 06.csv'  'Administrator 10.csv'  'Administrator 14.csv'\n",
            "'Administrator 03.csv'  'Administrator 07.csv'  'Administrator 11.csv'   ir_smt_test_003.csv\n",
            "'Administrator 04.csv'  'Administrator 08.csv'  'Administrator 12.csv'\n",
            "'Administrator 05.csv'  'Administrator 09.csv'  'Administrator 13.csv'\n"
          ]
        }
      ]
    },
    {
      "cell_type": "code",
      "source": [
        "ls smt_test_002/"
      ],
      "metadata": {
        "outputId": "3df346d1-b781-44f3-e5b3-40396eeda5da",
        "colab": {
          "base_uri": "https://localhost:8080/"
        },
        "id": "TZvjtLEeU1m5"
      },
      "execution_count": 9,
      "outputs": [
        {
          "output_type": "stream",
          "name": "stdout",
          "text": [
            "'Administrator 05.csv'  'Administrator 08.csv'  'Administrator 11.csv'  'Administrator 14.csv'\n",
            "'Administrator 06.csv'  'Administrator 09.csv'  'Administrator 12.csv'   ir_smt_test_002.csv\n",
            "'Administrator 07.csv'  'Administrator 10.csv'  'Administrator 13.csv'\n"
          ]
        }
      ]
    },
    {
      "cell_type": "code",
      "source": [],
      "metadata": {
        "id": "mbh1OE26Ub0p"
      },
      "execution_count": null,
      "outputs": []
    }
  ]
}