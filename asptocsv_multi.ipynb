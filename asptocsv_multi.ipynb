{
  "nbformat": 4,
  "nbformat_minor": 0,
  "metadata": {
    "colab": {
      "provenance": [],
      "authorship_tag": "ABX9TyOKt/l5jRbXyyH+1pVLdlg5",
      "include_colab_link": true
    },
    "kernelspec": {
      "name": "python3",
      "display_name": "Python 3"
    },
    "language_info": {
      "name": "python"
    }
  },
  "cells": [
    {
      "cell_type": "markdown",
      "metadata": {
        "id": "view-in-github",
        "colab_type": "text"
      },
      "source": [
        "<a href=\"https://colab.research.google.com/github/drsimonturega/ir_spec_man/blob/main/asptocsv_multi.ipynb\" target=\"_parent\"><img src=\"https://colab.research.google.com/assets/colab-badge.svg\" alt=\"Open In Colab\"/></a>"
      ]
    },
    {
      "cell_type": "markdown",
      "source": [
        "# Infrared spectral manipulation: *.asp to *.csv\n",
        "### One spectra at a time\n",
        "### You need to be logged into your google acount to use this code\n",
        "### There are three sections of code that need to be run in sequence;\n",
        "- ### Lab book code for this experiemnt\n",
        "- ### Upload your .asp spectra file (.asp from a Agilent ATR-FTIR spectrometer)\n",
        "- ### Extract data from *.asp to transposed *.csv\n",
        "\n",
        "### This will provide a *.zip file for down load your orginal file and your spectra as a transposed *.csv."
      ],
      "metadata": {
        "id": "xD6ZERcE6aUr"
      }
    },
    {
      "cell_type": "code",
      "source": [
        "# @title ## Lab book code for this experiemnt\n",
        "# @markdown ### Enter the lab book code for this experiemnt\n",
        "lab_book_code = '03072024_7' # @param {type:\"string\"}\n",
        "import os\n",
        "import shutil\n",
        "\n",
        "os.chdir(\"/content\")\n",
        "try:\n",
        "    os.mkdir(lab_book_code)\n",
        "except FileExistsError:\n",
        "    print(f'A folder for {lab_book_code} already exists you may over write your\\\n",
        "        data if you continue')\n",
        "    #the lines below remove the folder! not currently implimented\n",
        "    #os.chdir(\"..\")\n",
        "    #shutil.rmtree(lab_book_code)\n",
        "try:\n",
        "    !pwd\n",
        "    os.chdir(lab_book_code)\n",
        "    !pwd\n",
        "except FileNotFoundError:\n",
        "    print(f'try again')\n",
        "\n"
      ],
      "metadata": {
        "id": "PxVo8wkKVsGZ",
        "colab": {
          "base_uri": "https://localhost:8080/"
        },
        "outputId": "1c504e78-3029-4579-a0d2-541f23fc9c90"
      },
      "execution_count": 5,
      "outputs": [
        {
          "output_type": "stream",
          "name": "stdout",
          "text": [
            "/content\n",
            "/content/03072024_7\n"
          ]
        }
      ]
    },
    {
      "cell_type": "markdown",
      "source": [
        "## Upload your .asp spectra file (.asp from a Agilent ATR-FTIR spectrometer)\n",
        "\n"
      ],
      "metadata": {
        "id": "lP-zbOPs7fV4"
      }
    },
    {
      "cell_type": "code",
      "source": [
        "from google.colab import files\n",
        "\n",
        "uploaded = files.upload()\n",
        "\n",
        "for fn in uploaded.keys():\n",
        "  print('User uploaded file \"{name}\" with length {length} bytes'.format(\n",
        "      name=fn, length=len(uploaded[fn])))\n",
        "asp_input = list(uploaded.keys())\n",
        "asp_input = str(asp_input[0])\n",
        "\n",
        "asp_input = asp_input[:-4]\n",
        "print(f'{asp_input}')"
      ],
      "metadata": {
        "colab": {
          "base_uri": "https://localhost:8080/",
          "height": 316
        },
        "id": "9V4f9wrf6cm-",
        "outputId": "e25c870d-7886-4f06-8434-f4dca855da69"
      },
      "execution_count": 7,
      "outputs": [
        {
          "output_type": "display_data",
          "data": {
            "text/plain": [
              "<IPython.core.display.HTML object>"
            ],
            "text/html": [
              "\n",
              "     <input type=\"file\" id=\"files-55660b4f-bf55-49fa-92dc-c8349bc81b00\" name=\"files[]\" multiple disabled\n",
              "        style=\"border:none\" />\n",
              "     <output id=\"result-55660b4f-bf55-49fa-92dc-c8349bc81b00\">\n",
              "      Upload widget is only available when the cell has been executed in the\n",
              "      current browser session. Please rerun this cell to enable.\n",
              "      </output>\n",
              "      <script>// Copyright 2017 Google LLC\n",
              "//\n",
              "// Licensed under the Apache License, Version 2.0 (the \"License\");\n",
              "// you may not use this file except in compliance with the License.\n",
              "// You may obtain a copy of the License at\n",
              "//\n",
              "//      http://www.apache.org/licenses/LICENSE-2.0\n",
              "//\n",
              "// Unless required by applicable law or agreed to in writing, software\n",
              "// distributed under the License is distributed on an \"AS IS\" BASIS,\n",
              "// WITHOUT WARRANTIES OR CONDITIONS OF ANY KIND, either express or implied.\n",
              "// See the License for the specific language governing permissions and\n",
              "// limitations under the License.\n",
              "\n",
              "/**\n",
              " * @fileoverview Helpers for google.colab Python module.\n",
              " */\n",
              "(function(scope) {\n",
              "function span(text, styleAttributes = {}) {\n",
              "  const element = document.createElement('span');\n",
              "  element.textContent = text;\n",
              "  for (const key of Object.keys(styleAttributes)) {\n",
              "    element.style[key] = styleAttributes[key];\n",
              "  }\n",
              "  return element;\n",
              "}\n",
              "\n",
              "// Max number of bytes which will be uploaded at a time.\n",
              "const MAX_PAYLOAD_SIZE = 100 * 1024;\n",
              "\n",
              "function _uploadFiles(inputId, outputId) {\n",
              "  const steps = uploadFilesStep(inputId, outputId);\n",
              "  const outputElement = document.getElementById(outputId);\n",
              "  // Cache steps on the outputElement to make it available for the next call\n",
              "  // to uploadFilesContinue from Python.\n",
              "  outputElement.steps = steps;\n",
              "\n",
              "  return _uploadFilesContinue(outputId);\n",
              "}\n",
              "\n",
              "// This is roughly an async generator (not supported in the browser yet),\n",
              "// where there are multiple asynchronous steps and the Python side is going\n",
              "// to poll for completion of each step.\n",
              "// This uses a Promise to block the python side on completion of each step,\n",
              "// then passes the result of the previous step as the input to the next step.\n",
              "function _uploadFilesContinue(outputId) {\n",
              "  const outputElement = document.getElementById(outputId);\n",
              "  const steps = outputElement.steps;\n",
              "\n",
              "  const next = steps.next(outputElement.lastPromiseValue);\n",
              "  return Promise.resolve(next.value.promise).then((value) => {\n",
              "    // Cache the last promise value to make it available to the next\n",
              "    // step of the generator.\n",
              "    outputElement.lastPromiseValue = value;\n",
              "    return next.value.response;\n",
              "  });\n",
              "}\n",
              "\n",
              "/**\n",
              " * Generator function which is called between each async step of the upload\n",
              " * process.\n",
              " * @param {string} inputId Element ID of the input file picker element.\n",
              " * @param {string} outputId Element ID of the output display.\n",
              " * @return {!Iterable<!Object>} Iterable of next steps.\n",
              " */\n",
              "function* uploadFilesStep(inputId, outputId) {\n",
              "  const inputElement = document.getElementById(inputId);\n",
              "  inputElement.disabled = false;\n",
              "\n",
              "  const outputElement = document.getElementById(outputId);\n",
              "  outputElement.innerHTML = '';\n",
              "\n",
              "  const pickedPromise = new Promise((resolve) => {\n",
              "    inputElement.addEventListener('change', (e) => {\n",
              "      resolve(e.target.files);\n",
              "    });\n",
              "  });\n",
              "\n",
              "  const cancel = document.createElement('button');\n",
              "  inputElement.parentElement.appendChild(cancel);\n",
              "  cancel.textContent = 'Cancel upload';\n",
              "  const cancelPromise = new Promise((resolve) => {\n",
              "    cancel.onclick = () => {\n",
              "      resolve(null);\n",
              "    };\n",
              "  });\n",
              "\n",
              "  // Wait for the user to pick the files.\n",
              "  const files = yield {\n",
              "    promise: Promise.race([pickedPromise, cancelPromise]),\n",
              "    response: {\n",
              "      action: 'starting',\n",
              "    }\n",
              "  };\n",
              "\n",
              "  cancel.remove();\n",
              "\n",
              "  // Disable the input element since further picks are not allowed.\n",
              "  inputElement.disabled = true;\n",
              "\n",
              "  if (!files) {\n",
              "    return {\n",
              "      response: {\n",
              "        action: 'complete',\n",
              "      }\n",
              "    };\n",
              "  }\n",
              "\n",
              "  for (const file of files) {\n",
              "    const li = document.createElement('li');\n",
              "    li.append(span(file.name, {fontWeight: 'bold'}));\n",
              "    li.append(span(\n",
              "        `(${file.type || 'n/a'}) - ${file.size} bytes, ` +\n",
              "        `last modified: ${\n",
              "            file.lastModifiedDate ? file.lastModifiedDate.toLocaleDateString() :\n",
              "                                    'n/a'} - `));\n",
              "    const percent = span('0% done');\n",
              "    li.appendChild(percent);\n",
              "\n",
              "    outputElement.appendChild(li);\n",
              "\n",
              "    const fileDataPromise = new Promise((resolve) => {\n",
              "      const reader = new FileReader();\n",
              "      reader.onload = (e) => {\n",
              "        resolve(e.target.result);\n",
              "      };\n",
              "      reader.readAsArrayBuffer(file);\n",
              "    });\n",
              "    // Wait for the data to be ready.\n",
              "    let fileData = yield {\n",
              "      promise: fileDataPromise,\n",
              "      response: {\n",
              "        action: 'continue',\n",
              "      }\n",
              "    };\n",
              "\n",
              "    // Use a chunked sending to avoid message size limits. See b/62115660.\n",
              "    let position = 0;\n",
              "    do {\n",
              "      const length = Math.min(fileData.byteLength - position, MAX_PAYLOAD_SIZE);\n",
              "      const chunk = new Uint8Array(fileData, position, length);\n",
              "      position += length;\n",
              "\n",
              "      const base64 = btoa(String.fromCharCode.apply(null, chunk));\n",
              "      yield {\n",
              "        response: {\n",
              "          action: 'append',\n",
              "          file: file.name,\n",
              "          data: base64,\n",
              "        },\n",
              "      };\n",
              "\n",
              "      let percentDone = fileData.byteLength === 0 ?\n",
              "          100 :\n",
              "          Math.round((position / fileData.byteLength) * 100);\n",
              "      percent.textContent = `${percentDone}% done`;\n",
              "\n",
              "    } while (position < fileData.byteLength);\n",
              "  }\n",
              "\n",
              "  // All done.\n",
              "  yield {\n",
              "    response: {\n",
              "      action: 'complete',\n",
              "    }\n",
              "  };\n",
              "}\n",
              "\n",
              "scope.google = scope.google || {};\n",
              "scope.google.colab = scope.google.colab || {};\n",
              "scope.google.colab._files = {\n",
              "  _uploadFiles,\n",
              "  _uploadFilesContinue,\n",
              "};\n",
              "})(self);\n",
              "</script> "
            ]
          },
          "metadata": {}
        },
        {
          "output_type": "stream",
          "name": "stdout",
          "text": [
            "Saving BAS_25_001_2023-06-14T09-55-56.asp to BAS_25_001_2023-06-14T09-55-56.asp\n",
            "Saving BAS_100_001_2023-06-14T09-58-46.asp to BAS_100_001_2023-06-14T09-58-46.asp\n",
            "Saving BAS_Buffer_001_2023-06-13T15-54-39.asp to BAS_Buffer_001_2023-06-13T15-54-39.asp\n",
            "Saving BAS_Buffer_001_2023-06-13T15-56-35.asp to BAS_Buffer_001_2023-06-13T15-56-35.asp\n",
            "Saving BAS_Water_2023-06-13T15-51-57.asp to BAS_Water_2023-06-13T15-51-57.asp\n",
            "User uploaded file \"BAS_25_001_2023-06-14T09-55-56.asp\" with length 17340 bytes\n",
            "User uploaded file \"BAS_100_001_2023-06-14T09-58-46.asp\" with length 17358 bytes\n",
            "User uploaded file \"BAS_Buffer_001_2023-06-13T15-54-39.asp\" with length 17357 bytes\n",
            "User uploaded file \"BAS_Buffer_001_2023-06-13T15-56-35.asp\" with length 17340 bytes\n",
            "User uploaded file \"BAS_Water_2023-06-13T15-51-57.asp\" with length 17342 bytes\n",
            "BAS_25_001_2023-06-14T09-55-56\n"
          ]
        }
      ]
    },
    {
      "cell_type": "markdown",
      "source": [
        "### Extract data from *.asp to transposed *.csv"
      ],
      "metadata": {
        "id": "QgL31JCuy7_n"
      }
    },
    {
      "cell_type": "code",
      "source": [
        "import os\n",
        "import pandas as pd\n",
        "import numpy as np\n",
        "from datetime import datetime\n",
        "import matplotlib.pyplot as plt\n",
        "from matplotlib.ticker import ScalarFormatter\n",
        "from sklearn.linear_model import LinearRegression\n",
        "import statistics\n",
        "from tabulate import tabulate\n",
        "#from google.colab import files\n",
        "import shutil\n",
        "\n",
        "\n",
        "class asptospectocsv():\n",
        "\n",
        "\n",
        "    def __init__(self, asp_input):\n",
        "        return\n",
        "\n",
        "    def spec_import(self, spec_sht_name):\n",
        "        #importing spectra from .asp from a waters? ATR-FTIR spectrometer\n",
        "        spec_inp= pd.DataFrame()\n",
        "        try:\n",
        "            spec_inp = pd.read_csv(spec_sht_name + '.asp')\n",
        "        except PermissionError:\n",
        "            print('The file we are trying to open may be open in another \\\n",
        "                program, please close and try again!')\n",
        "        print(spec_inp.head())\n",
        "        return spec_inp\n",
        "\n",
        "    def asptodfd(self, spec_inp):\n",
        "      from numpy import log as ln\n",
        "\n",
        "      ir_spec_raw = spec_inp\n",
        "\n",
        "      # we need th col name as a float?\n",
        "      col_head = list(ir_spec_raw.columns)\n",
        "      num_spec_points = col_head[(0)]\n",
        "\n",
        "      # build the x axis (wavenumbers) from the file format\n",
        "      high_wavnum = ir_spec_raw.iloc[0,0] #highest wavenumber\n",
        "      high_wavnum = float(high_wavnum)\n",
        "      low_wavnum = ir_spec_raw.iloc[1,0] #lowest wavenumber\n",
        "      low_wavnum = float(low_wavnum)\n",
        "      num_spec_points = float(num_spec_points)\n",
        "      spec_gap = ( high_wavnum - low_wavnum ) / num_spec_points #calaculate spectral gap\n",
        "      wav_num = []\n",
        "      wav_nums = np.arange(low_wavnum, high_wavnum, spec_gap)\n",
        "      wav_num_rev=[]\n",
        "\n",
        "      for i in reversed(np.arange(low_wavnum, high_wavnum, spec_gap)): #build the list of wave numbers\n",
        "        wav_num_rev.append(i)\n",
        "      #set first col in dataframe as x axis (wavenumber)\n",
        "      spec_sin = pd.DataFrame()\n",
        "      spec_sin['wave number / cm^-1'] = wav_num_rev\n",
        "\n",
        "      #add y axis (transmitance) to dataframe\n",
        "      spec_trans=[] # a list to transport transmitance data\n",
        "      spec_trans = ir_spec_raw.iloc[5:,0] #it gets sliced\n",
        "      spec_trans = spec_trans.reset_index(drop=True) #it gets reindexed\n",
        "      spec_sin['spec1'] = spec_trans #spec name\n",
        "      bg = pd.DataFrame.transpose(spec_sin)\n",
        "\n",
        "      bg.rename(columns=bg.iloc[0,0:], inplace=True) # set row 0 as col titles\n",
        "      bg = bg.reset_index(drop=True)\n",
        "      bg = pd.DataFrame.drop(bg, axis=0, index=0)\n",
        "      print(bg)\n",
        "      spec_sin = bg\n",
        "      return spec_sin\n",
        "\n",
        "\n",
        "    def savendl(self,spec_sin, asp_input):\n",
        "      print(f'what is this {spec_sin}')\n",
        "      try: #output results\n",
        "            spec_sin.to_csv(\"ir_\" + asp_input + \".csv\",index=False)\n",
        "      except PermissionError:\n",
        "            print('The file we are trying to open may be open in another \\\n",
        "                program, please close and try again!')\n",
        "      os.chdir(\"/content\")\n",
        "      shutil.make_archive(lab_book_code, 'zip', lab_book_code)\n",
        "      files.download(f'{lab_book_code}.zip')\n",
        "      return\n",
        "\n",
        "specasp = asptospectocsv(asp_input)\n",
        "spec_csv = asptospectocsv.spec_import(specasp, asp_input)\n",
        "final_csv = asptospectocsv.asptodfd(specasp, spec_csv)\n",
        "asptospectocsv.savendl(specasp, final_csv, asp_input)"
      ],
      "metadata": {
        "colab": {
          "base_uri": "https://localhost:8080/",
          "height": 572
        },
        "id": "j5vLEOGj6EGW",
        "outputId": "1632aca0-297d-4ef3-a561-8f318a985b95"
      },
      "execution_count": 3,
      "outputs": [
        {
          "output_type": "stream",
          "name": "stdout",
          "text": [
            "           967\n",
            "0  3999.433499\n",
            "1   398.825149\n",
            "2     1.000000\n",
            "3   128.000000\n",
            "4     8.000000\n",
            "   3995.710016  3991.986533  3988.263049  3984.539566  3980.816083  \\\n",
            "1   100.001461    99.930312    99.805484    99.777925    99.923247   \n",
            "\n",
            "   3977.092600  3973.369116  3969.645633  3965.922150  3962.198666  ...  \\\n",
            "1    100.13696   100.202037   100.035304    99.923292    99.920064  ...   \n",
            "\n",
            "   432.336498   428.613015   424.889532   421.166048   417.442565   \\\n",
            "1     44.59108    45.525597     46.46434    48.389148    50.173464   \n",
            "\n",
            "   413.719082   409.995598   406.272115   402.548632   398.825149   \n",
            "1    52.221018    53.141294    55.376608    57.254788     58.85712  \n",
            "\n",
            "[1 rows x 967 columns]\n",
            "what is this    3995.710016  3991.986533  3988.263049  3984.539566  3980.816083  \\\n",
            "1   100.001461    99.930312    99.805484    99.777925    99.923247   \n",
            "\n",
            "   3977.092600  3973.369116  3969.645633  3965.922150  3962.198666  ...  \\\n",
            "1    100.13696   100.202037   100.035304    99.923292    99.920064  ...   \n",
            "\n",
            "   432.336498   428.613015   424.889532   421.166048   417.442565   \\\n",
            "1     44.59108    45.525597     46.46434    48.389148    50.173464   \n",
            "\n",
            "   413.719082   409.995598   406.272115   402.548632   398.825149   \n",
            "1    52.221018    53.141294    55.376608    57.254788     58.85712  \n",
            "\n",
            "[1 rows x 967 columns]\n"
          ]
        },
        {
          "output_type": "display_data",
          "data": {
            "text/plain": [
              "<IPython.core.display.Javascript object>"
            ],
            "application/javascript": [
              "\n",
              "    async function download(id, filename, size) {\n",
              "      if (!google.colab.kernel.accessAllowed) {\n",
              "        return;\n",
              "      }\n",
              "      const div = document.createElement('div');\n",
              "      const label = document.createElement('label');\n",
              "      label.textContent = `Downloading \"${filename}\": `;\n",
              "      div.appendChild(label);\n",
              "      const progress = document.createElement('progress');\n",
              "      progress.max = size;\n",
              "      div.appendChild(progress);\n",
              "      document.body.appendChild(div);\n",
              "\n",
              "      const buffers = [];\n",
              "      let downloaded = 0;\n",
              "\n",
              "      const channel = await google.colab.kernel.comms.open(id);\n",
              "      // Send a message to notify the kernel that we're ready.\n",
              "      channel.send({})\n",
              "\n",
              "      for await (const message of channel.messages) {\n",
              "        // Send a message to notify the kernel that we're ready.\n",
              "        channel.send({})\n",
              "        if (message.buffers) {\n",
              "          for (const buffer of message.buffers) {\n",
              "            buffers.push(buffer);\n",
              "            downloaded += buffer.byteLength;\n",
              "            progress.value = downloaded;\n",
              "          }\n",
              "        }\n",
              "      }\n",
              "      const blob = new Blob(buffers, {type: 'application/binary'});\n",
              "      const a = document.createElement('a');\n",
              "      a.href = window.URL.createObjectURL(blob);\n",
              "      a.download = filename;\n",
              "      div.appendChild(a);\n",
              "      a.click();\n",
              "      div.remove();\n",
              "    }\n",
              "  "
            ]
          },
          "metadata": {}
        },
        {
          "output_type": "display_data",
          "data": {
            "text/plain": [
              "<IPython.core.display.Javascript object>"
            ],
            "application/javascript": [
              "download(\"download_50dd7a8c-b100-41c9-b05d-fc98fd8a7182\", \"03072024_5.zip\", 25684)"
            ]
          },
          "metadata": {}
        }
      ]
    },
    {
      "cell_type": "code",
      "source": [
        "os.listdir()"
      ],
      "metadata": {
        "id": "KMxyjXkS-zhx",
        "outputId": "3ed994d7-a291-44f0-a0b4-5a4f8b9deb0b",
        "colab": {
          "base_uri": "https://localhost:8080/"
        }
      },
      "execution_count": 6,
      "outputs": [
        {
          "output_type": "execute_result",
          "data": {
            "text/plain": [
              "[]"
            ]
          },
          "metadata": {},
          "execution_count": 6
        }
      ]
    },
    {
      "cell_type": "code",
      "source": [],
      "metadata": {
        "id": "hRa7lU9G-06t"
      },
      "execution_count": null,
      "outputs": []
    }
  ]
}