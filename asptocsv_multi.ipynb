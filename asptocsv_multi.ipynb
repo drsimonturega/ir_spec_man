{
  "nbformat": 4,
  "nbformat_minor": 0,
  "metadata": {
    "colab": {
      "provenance": [],
      "authorship_tag": "ABX9TyMk8m3uNpBK9r61zzoCYt9N",
      "include_colab_link": true
    },
    "kernelspec": {
      "name": "python3",
      "display_name": "Python 3"
    },
    "language_info": {
      "name": "python"
    }
  },
  "cells": [
    {
      "cell_type": "markdown",
      "metadata": {
        "id": "view-in-github",
        "colab_type": "text"
      },
      "source": [
        "<a href=\"https://colab.research.google.com/github/drsimonturega/ir_spec_man/blob/main/asptocsv_multi.ipynb\" target=\"_parent\"><img src=\"https://colab.research.google.com/assets/colab-badge.svg\" alt=\"Open In Colab\"/></a>"
      ]
    },
    {
      "cell_type": "markdown",
      "source": [
        "# Infrared spectral manipulation: *.asp to *.csv\n",
        "### One spectra at a time\n",
        "### You need to be logged into your google acount to use this code\n",
        "### There are three sections of code that need to be run in sequence;\n",
        "- ### Lab book code for this experiemnt\n",
        "- ### Upload your .asp spectra file (.asp from a Agilent ATR-FTIR spectrometer)\n",
        "- ### Extract data from *.asp to transposed *.csv\n",
        "\n",
        "### This will provide a *.zip file for down load your orginal file and your spectra as a transposed *.csv."
      ],
      "metadata": {
        "id": "xD6ZERcE6aUr"
      }
    },
    {
      "cell_type": "code",
      "source": [
        "# @title ## Lab book code for this experiemnt\n",
        "# @markdown ### Enter the lab book code for this experiemnt\n",
        "lab_book_code = '03072024_8' # @param {type:\"string\"}\n",
        "import os\n",
        "import shutil\n",
        "\n",
        "os.chdir(\"/content\")\n",
        "try:\n",
        "    os.mkdir(lab_book_code)\n",
        "except FileExistsError:\n",
        "    print(f'A folder for {lab_book_code} already exists you may over write your\\\n",
        "        data if you continue')\n",
        "    #the lines below remove the folder! not currently implimented\n",
        "    #os.chdir(\"..\")\n",
        "    #shutil.rmtree(lab_book_code)\n",
        "try:\n",
        "    !pwd\n",
        "    os.chdir(lab_book_code)\n",
        "    !pwd\n",
        "except FileNotFoundError:\n",
        "    print(f'try again')\n",
        "\n"
      ],
      "metadata": {
        "id": "PxVo8wkKVsGZ",
        "colab": {
          "base_uri": "https://localhost:8080/"
        },
        "outputId": "f467289d-9622-4a44-8c90-b054f4cffee0"
      },
      "execution_count": 1,
      "outputs": [
        {
          "output_type": "stream",
          "name": "stdout",
          "text": [
            "/content\n",
            "/content/03072024_8\n"
          ]
        }
      ]
    },
    {
      "cell_type": "markdown",
      "source": [
        "## Upload your .asp spectra file (.asp from a Agilent ATR-FTIR spectrometer)\n",
        "\n"
      ],
      "metadata": {
        "id": "lP-zbOPs7fV4"
      }
    },
    {
      "cell_type": "code",
      "source": [
        "from google.colab import files\n",
        "\n",
        "uploaded = files.upload()\n",
        "\n",
        "for fn in uploaded.keys():\n",
        "  print('User uploaded file \"{name}\" with length {length} bytes'.format(\n",
        "      name=fn, length=len(uploaded[fn])))\n",
        "spec_list = list(uploaded.keys())\n",
        "print(f'{spec_list}')\n",
        "#spec_trans(str)\n",
        "for i in range(len(spec_list)):\n",
        "    spec_list[i] = str(spec_list[i])\n",
        "    spec_trans = spec_list[i]\n",
        "    #print(f'spec_trans')\n",
        "    spec_trans = spec_trans[:-4]\n",
        "    spec_list[i] = spec_trans\n",
        "\n",
        "#spec_list = spec_list[:-4]\n",
        "print(f'{spec_list}')"
      ],
      "metadata": {
        "colab": {
          "base_uri": "https://localhost:8080/",
          "height": 333
        },
        "id": "9V4f9wrf6cm-",
        "outputId": "4d59745c-25a9-4394-847b-7736069233d9"
      },
      "execution_count": 7,
      "outputs": [
        {
          "output_type": "display_data",
          "data": {
            "text/plain": [
              "<IPython.core.display.HTML object>"
            ],
            "text/html": [
              "\n",
              "     <input type=\"file\" id=\"files-e3891cd2-c101-45c9-94aa-e110a6a563bd\" name=\"files[]\" multiple disabled\n",
              "        style=\"border:none\" />\n",
              "     <output id=\"result-e3891cd2-c101-45c9-94aa-e110a6a563bd\">\n",
              "      Upload widget is only available when the cell has been executed in the\n",
              "      current browser session. Please rerun this cell to enable.\n",
              "      </output>\n",
              "      <script>// Copyright 2017 Google LLC\n",
              "//\n",
              "// Licensed under the Apache License, Version 2.0 (the \"License\");\n",
              "// you may not use this file except in compliance with the License.\n",
              "// You may obtain a copy of the License at\n",
              "//\n",
              "//      http://www.apache.org/licenses/LICENSE-2.0\n",
              "//\n",
              "// Unless required by applicable law or agreed to in writing, software\n",
              "// distributed under the License is distributed on an \"AS IS\" BASIS,\n",
              "// WITHOUT WARRANTIES OR CONDITIONS OF ANY KIND, either express or implied.\n",
              "// See the License for the specific language governing permissions and\n",
              "// limitations under the License.\n",
              "\n",
              "/**\n",
              " * @fileoverview Helpers for google.colab Python module.\n",
              " */\n",
              "(function(scope) {\n",
              "function span(text, styleAttributes = {}) {\n",
              "  const element = document.createElement('span');\n",
              "  element.textContent = text;\n",
              "  for (const key of Object.keys(styleAttributes)) {\n",
              "    element.style[key] = styleAttributes[key];\n",
              "  }\n",
              "  return element;\n",
              "}\n",
              "\n",
              "// Max number of bytes which will be uploaded at a time.\n",
              "const MAX_PAYLOAD_SIZE = 100 * 1024;\n",
              "\n",
              "function _uploadFiles(inputId, outputId) {\n",
              "  const steps = uploadFilesStep(inputId, outputId);\n",
              "  const outputElement = document.getElementById(outputId);\n",
              "  // Cache steps on the outputElement to make it available for the next call\n",
              "  // to uploadFilesContinue from Python.\n",
              "  outputElement.steps = steps;\n",
              "\n",
              "  return _uploadFilesContinue(outputId);\n",
              "}\n",
              "\n",
              "// This is roughly an async generator (not supported in the browser yet),\n",
              "// where there are multiple asynchronous steps and the Python side is going\n",
              "// to poll for completion of each step.\n",
              "// This uses a Promise to block the python side on completion of each step,\n",
              "// then passes the result of the previous step as the input to the next step.\n",
              "function _uploadFilesContinue(outputId) {\n",
              "  const outputElement = document.getElementById(outputId);\n",
              "  const steps = outputElement.steps;\n",
              "\n",
              "  const next = steps.next(outputElement.lastPromiseValue);\n",
              "  return Promise.resolve(next.value.promise).then((value) => {\n",
              "    // Cache the last promise value to make it available to the next\n",
              "    // step of the generator.\n",
              "    outputElement.lastPromiseValue = value;\n",
              "    return next.value.response;\n",
              "  });\n",
              "}\n",
              "\n",
              "/**\n",
              " * Generator function which is called between each async step of the upload\n",
              " * process.\n",
              " * @param {string} inputId Element ID of the input file picker element.\n",
              " * @param {string} outputId Element ID of the output display.\n",
              " * @return {!Iterable<!Object>} Iterable of next steps.\n",
              " */\n",
              "function* uploadFilesStep(inputId, outputId) {\n",
              "  const inputElement = document.getElementById(inputId);\n",
              "  inputElement.disabled = false;\n",
              "\n",
              "  const outputElement = document.getElementById(outputId);\n",
              "  outputElement.innerHTML = '';\n",
              "\n",
              "  const pickedPromise = new Promise((resolve) => {\n",
              "    inputElement.addEventListener('change', (e) => {\n",
              "      resolve(e.target.files);\n",
              "    });\n",
              "  });\n",
              "\n",
              "  const cancel = document.createElement('button');\n",
              "  inputElement.parentElement.appendChild(cancel);\n",
              "  cancel.textContent = 'Cancel upload';\n",
              "  const cancelPromise = new Promise((resolve) => {\n",
              "    cancel.onclick = () => {\n",
              "      resolve(null);\n",
              "    };\n",
              "  });\n",
              "\n",
              "  // Wait for the user to pick the files.\n",
              "  const files = yield {\n",
              "    promise: Promise.race([pickedPromise, cancelPromise]),\n",
              "    response: {\n",
              "      action: 'starting',\n",
              "    }\n",
              "  };\n",
              "\n",
              "  cancel.remove();\n",
              "\n",
              "  // Disable the input element since further picks are not allowed.\n",
              "  inputElement.disabled = true;\n",
              "\n",
              "  if (!files) {\n",
              "    return {\n",
              "      response: {\n",
              "        action: 'complete',\n",
              "      }\n",
              "    };\n",
              "  }\n",
              "\n",
              "  for (const file of files) {\n",
              "    const li = document.createElement('li');\n",
              "    li.append(span(file.name, {fontWeight: 'bold'}));\n",
              "    li.append(span(\n",
              "        `(${file.type || 'n/a'}) - ${file.size} bytes, ` +\n",
              "        `last modified: ${\n",
              "            file.lastModifiedDate ? file.lastModifiedDate.toLocaleDateString() :\n",
              "                                    'n/a'} - `));\n",
              "    const percent = span('0% done');\n",
              "    li.appendChild(percent);\n",
              "\n",
              "    outputElement.appendChild(li);\n",
              "\n",
              "    const fileDataPromise = new Promise((resolve) => {\n",
              "      const reader = new FileReader();\n",
              "      reader.onload = (e) => {\n",
              "        resolve(e.target.result);\n",
              "      };\n",
              "      reader.readAsArrayBuffer(file);\n",
              "    });\n",
              "    // Wait for the data to be ready.\n",
              "    let fileData = yield {\n",
              "      promise: fileDataPromise,\n",
              "      response: {\n",
              "        action: 'continue',\n",
              "      }\n",
              "    };\n",
              "\n",
              "    // Use a chunked sending to avoid message size limits. See b/62115660.\n",
              "    let position = 0;\n",
              "    do {\n",
              "      const length = Math.min(fileData.byteLength - position, MAX_PAYLOAD_SIZE);\n",
              "      const chunk = new Uint8Array(fileData, position, length);\n",
              "      position += length;\n",
              "\n",
              "      const base64 = btoa(String.fromCharCode.apply(null, chunk));\n",
              "      yield {\n",
              "        response: {\n",
              "          action: 'append',\n",
              "          file: file.name,\n",
              "          data: base64,\n",
              "        },\n",
              "      };\n",
              "\n",
              "      let percentDone = fileData.byteLength === 0 ?\n",
              "          100 :\n",
              "          Math.round((position / fileData.byteLength) * 100);\n",
              "      percent.textContent = `${percentDone}% done`;\n",
              "\n",
              "    } while (position < fileData.byteLength);\n",
              "  }\n",
              "\n",
              "  // All done.\n",
              "  yield {\n",
              "    response: {\n",
              "      action: 'complete',\n",
              "    }\n",
              "  };\n",
              "}\n",
              "\n",
              "scope.google = scope.google || {};\n",
              "scope.google.colab = scope.google.colab || {};\n",
              "scope.google.colab._files = {\n",
              "  _uploadFiles,\n",
              "  _uploadFilesContinue,\n",
              "};\n",
              "})(self);\n",
              "</script> "
            ]
          },
          "metadata": {}
        },
        {
          "output_type": "stream",
          "name": "stdout",
          "text": [
            "Saving BAS_25_001_2023-06-14T09-55-56.asp to BAS_25_001_2023-06-14T09-55-56.asp\n",
            "Saving BAS_100_001_2023-06-14T09-58-46.asp to BAS_100_001_2023-06-14T09-58-46.asp\n",
            "Saving BAS_Buffer_001_2023-06-13T15-54-39.asp to BAS_Buffer_001_2023-06-13T15-54-39.asp\n",
            "Saving BAS_Buffer_001_2023-06-13T15-56-35.asp to BAS_Buffer_001_2023-06-13T15-56-35.asp\n",
            "Saving BAS_Water_2023-06-13T15-51-57.asp to BAS_Water_2023-06-13T15-51-57.asp\n",
            "User uploaded file \"BAS_25_001_2023-06-14T09-55-56.asp\" with length 17340 bytes\n",
            "User uploaded file \"BAS_100_001_2023-06-14T09-58-46.asp\" with length 17358 bytes\n",
            "User uploaded file \"BAS_Buffer_001_2023-06-13T15-54-39.asp\" with length 17357 bytes\n",
            "User uploaded file \"BAS_Buffer_001_2023-06-13T15-56-35.asp\" with length 17340 bytes\n",
            "User uploaded file \"BAS_Water_2023-06-13T15-51-57.asp\" with length 17342 bytes\n",
            "['BAS_25_001_2023-06-14T09-55-56.asp', 'BAS_100_001_2023-06-14T09-58-46.asp', 'BAS_Buffer_001_2023-06-13T15-54-39.asp', 'BAS_Buffer_001_2023-06-13T15-56-35.asp', 'BAS_Water_2023-06-13T15-51-57.asp']\n",
            "['BAS_25_001_2023-06-14T09-55-56', 'BAS_100_001_2023-06-14T09-58-46', 'BAS_Buffer_001_2023-06-13T15-54-39', 'BAS_Buffer_001_2023-06-13T15-56-35', 'BAS_Water_2023-06-13T15-51-57']\n"
          ]
        }
      ]
    },
    {
      "cell_type": "markdown",
      "source": [
        "### Extract data from *.asp to transposed *.csv"
      ],
      "metadata": {
        "id": "QgL31JCuy7_n"
      }
    },
    {
      "cell_type": "code",
      "source": [
        "import os\n",
        "import pandas as pd\n",
        "import numpy as np\n",
        "from datetime import datetime\n",
        "import matplotlib.pyplot as plt\n",
        "from matplotlib.ticker import ScalarFormatter\n",
        "from sklearn.linear_model import LinearRegression\n",
        "import statistics\n",
        "from tabulate import tabulate\n",
        "#from google.colab import files\n",
        "import shutil\n",
        "\n",
        "\n",
        "class asptospectocsv():\n",
        "\n",
        "\n",
        "    def __init__(self, asp_input):\n",
        "        return\n",
        "\n",
        "    def spec_import(self, spec_sht_name):\n",
        "        #importing spectra from .asp from a waters? ATR-FTIR spectrometer\n",
        "        spec_inp= pd.DataFrame()\n",
        "        try:\n",
        "            spec_inp = pd.read_csv(spec_sht_name + '.asp')\n",
        "        except PermissionError:\n",
        "            print('The file we are trying to open may be open in another \\\n",
        "                program, please close and try again!')\n",
        "        #print(spec_inp.head())\n",
        "        return spec_inp\n",
        "\n",
        "    def asptodfd(self, spec_inp, spec_sht_name):\n",
        "      from numpy import log as ln\n",
        "\n",
        "      ir_spec_raw = spec_inp\n",
        "\n",
        "      # we need th col name as a float?\n",
        "      col_head = list(ir_spec_raw.columns)\n",
        "      num_spec_points = col_head[(0)]\n",
        "\n",
        "      # build the x axis (wavenumbers) from the file format\n",
        "      high_wavnum = ir_spec_raw.iloc[0,0] #highest wavenumber\n",
        "      high_wavnum = float(high_wavnum)\n",
        "      low_wavnum = ir_spec_raw.iloc[1,0] #lowest wavenumber\n",
        "      low_wavnum = float(low_wavnum)\n",
        "      num_spec_points = float(num_spec_points)\n",
        "      spec_gap = ( high_wavnum - low_wavnum ) / num_spec_points #calaculate spectral gap\n",
        "      wav_num = []\n",
        "      wav_nums = np.arange(low_wavnum, high_wavnum, spec_gap)\n",
        "      wav_num_rev=[]\n",
        "\n",
        "      for i in reversed(np.arange(low_wavnum, high_wavnum, spec_gap)): #build the list of wave numbers\n",
        "        wav_num_rev.append(i)\n",
        "      #set first col in dataframe as x axis (wavenumber)\n",
        "      spec_sin = pd.DataFrame()\n",
        "      spec_sin['wave number / cm^-1'] = wav_num_rev\n",
        "\n",
        "      #add y axis (transmitance) to dataframe\n",
        "      spec_trans=[] # a list to transport transmitance data\n",
        "      spec_trans = ir_spec_raw.iloc[5:,0] #it gets sliced\n",
        "      spec_trans = spec_trans.reset_index(drop=True) #it gets reindexed\n",
        "      spec_sin['spec1'] = spec_trans #spec name\n",
        "      bg = pd.DataFrame.transpose(spec_sin)\n",
        "\n",
        "      bg.rename(columns=bg.iloc[0,0:], inplace=True) # set row 0 as col titles\n",
        "      bg = bg.reset_index(drop=True)\n",
        "      bg = pd.DataFrame.drop(bg, axis=0, index=0)\n",
        "      #print(bg)\n",
        "      spec_sin = bg\n",
        "      spec_sin.insert(loc = 0, column = 'sample ID', value = spec_sht_name)\n",
        "      spec_sin = spec_sin.reset_index(drop=True) #it gets reindexed\n",
        "      #print(spec_sin)\n",
        "      return spec_sin\n",
        "\n",
        "    def asptodfd_multi(self,  spec_list, spec_sin):\n",
        "      print(f'{len(spec_list)}')\n",
        "      print(f'{(spec_list)}')\n",
        "      for i in range(1,(len(spec_list))):\n",
        "        print(f'{(spec_list[i])}')\n",
        "        spec_n = asptospectocsv.spec_import(self, spec_list[i])\n",
        "        #spec_trans=[] # a list to transport transmitance data\n",
        "        spec_trans = spec_n.iloc[4:,0] #it gets sliced\n",
        "        spec_trans = spec_trans.reset_index(drop=True) #it gets reindexed\n",
        "        spec_trans.iloc[0] = spec_list[i]\n",
        "        print(type(spec_trans))\n",
        "        spec_trans = pd.DataFrame(spec_trans).transpose()\n",
        "        spec_trans = spec_trans.reset_index(drop=True) #it gets reindexed\n",
        "        spec_sin.loc[(i+1)] = spec_trans #spec name\n",
        "      print(spec_trans)\n",
        "      print(spec_sin)\n",
        "\n",
        "      return #spec_n\n",
        "\n",
        "\n",
        "    def savendl(self,spec_sin, asp_input):\n",
        "      print(f'what is this {spec_sin}')\n",
        "      try: #output results\n",
        "            spec_sin.to_csv(\"ir_\" + asp_input + \".csv\",index=False)\n",
        "      except PermissionError:\n",
        "            print('The file we are trying to open may be open in another \\\n",
        "                program, please close and try again!')\n",
        "      os.chdir(\"/content\")\n",
        "      shutil.make_archive(lab_book_code, 'zip', lab_book_code)\n",
        "      files.download(f'{lab_book_code}.zip')\n",
        "      return\n",
        "\n",
        "specasp = asptospectocsv(spec_list)\n",
        "spec_first = spec_list[0]\n",
        "spec_csv = asptospectocsv.spec_import(specasp, spec_first)\n",
        "\n",
        "final_csv = asptospectocsv.asptodfd(specasp, spec_csv, spec_first)\n",
        "loop_csv = asptospectocsv.asptodfd_multi(specasp, spec_list, final_csv)\n",
        "#asptospectocsv.savendl(specasp, final_csv, spec_list)"
      ],
      "metadata": {
        "colab": {
          "base_uri": "https://localhost:8080/",
          "height": 408
        },
        "id": "j5vLEOGj6EGW",
        "outputId": "a6388d40-2075-4d34-fdb6-06b0baa36b76"
      },
      "execution_count": 84,
      "outputs": [
        {
          "output_type": "stream",
          "name": "stdout",
          "text": [
            "5\n",
            "['BAS_25_001_2023-06-14T09-55-56', 'BAS_100_001_2023-06-14T09-58-46', 'BAS_Buffer_001_2023-06-13T15-54-39', 'BAS_Buffer_001_2023-06-13T15-56-35', 'BAS_Water_2023-06-13T15-51-57']\n",
            "BAS_100_001_2023-06-14T09-58-46\n",
            "<class 'pandas.core.series.Series'>\n"
          ]
        },
        {
          "output_type": "error",
          "ename": "ValueError",
          "evalue": "cannot set a row with mismatched columns",
          "traceback": [
            "\u001b[0;31m---------------------------------------------------------------------------\u001b[0m",
            "\u001b[0;31mValueError\u001b[0m                                Traceback (most recent call last)",
            "\u001b[0;32m<ipython-input-84-655f5b8305a0>\u001b[0m in \u001b[0;36m<cell line: 111>\u001b[0;34m()\u001b[0m\n\u001b[1;32m    109\u001b[0m \u001b[0;34m\u001b[0m\u001b[0m\n\u001b[1;32m    110\u001b[0m \u001b[0mfinal_csv\u001b[0m \u001b[0;34m=\u001b[0m \u001b[0masptospectocsv\u001b[0m\u001b[0;34m.\u001b[0m\u001b[0masptodfd\u001b[0m\u001b[0;34m(\u001b[0m\u001b[0mspecasp\u001b[0m\u001b[0;34m,\u001b[0m \u001b[0mspec_csv\u001b[0m\u001b[0;34m,\u001b[0m \u001b[0mspec_first\u001b[0m\u001b[0;34m)\u001b[0m\u001b[0;34m\u001b[0m\u001b[0;34m\u001b[0m\u001b[0m\n\u001b[0;32m--> 111\u001b[0;31m \u001b[0mloop_csv\u001b[0m \u001b[0;34m=\u001b[0m \u001b[0masptospectocsv\u001b[0m\u001b[0;34m.\u001b[0m\u001b[0masptodfd_multi\u001b[0m\u001b[0;34m(\u001b[0m\u001b[0mspecasp\u001b[0m\u001b[0;34m,\u001b[0m \u001b[0mspec_list\u001b[0m\u001b[0;34m,\u001b[0m \u001b[0mfinal_csv\u001b[0m\u001b[0;34m)\u001b[0m\u001b[0;34m\u001b[0m\u001b[0;34m\u001b[0m\u001b[0m\n\u001b[0m\u001b[1;32m    112\u001b[0m \u001b[0;31m#asptospectocsv.savendl(specasp, final_csv, spec_list)\u001b[0m\u001b[0;34m\u001b[0m\u001b[0;34m\u001b[0m\u001b[0m\n",
            "\u001b[0;32m<ipython-input-84-655f5b8305a0>\u001b[0m in \u001b[0;36masptodfd_multi\u001b[0;34m(self, spec_list, spec_sin)\u001b[0m\n\u001b[1;32m     85\u001b[0m         \u001b[0mspec_trans\u001b[0m \u001b[0;34m=\u001b[0m \u001b[0mpd\u001b[0m\u001b[0;34m.\u001b[0m\u001b[0mDataFrame\u001b[0m\u001b[0;34m(\u001b[0m\u001b[0mspec_trans\u001b[0m\u001b[0;34m)\u001b[0m\u001b[0;34m.\u001b[0m\u001b[0mtranspose\u001b[0m\u001b[0;34m(\u001b[0m\u001b[0;34m)\u001b[0m\u001b[0;34m\u001b[0m\u001b[0;34m\u001b[0m\u001b[0m\n\u001b[1;32m     86\u001b[0m         \u001b[0mspec_trans\u001b[0m \u001b[0;34m=\u001b[0m \u001b[0mspec_trans\u001b[0m\u001b[0;34m.\u001b[0m\u001b[0mreset_index\u001b[0m\u001b[0;34m(\u001b[0m\u001b[0mdrop\u001b[0m\u001b[0;34m=\u001b[0m\u001b[0;32mTrue\u001b[0m\u001b[0;34m)\u001b[0m \u001b[0;31m#it gets reindexed\u001b[0m\u001b[0;34m\u001b[0m\u001b[0;34m\u001b[0m\u001b[0m\n\u001b[0;32m---> 87\u001b[0;31m         \u001b[0mspec_sin\u001b[0m\u001b[0;34m.\u001b[0m\u001b[0mloc\u001b[0m\u001b[0;34m[\u001b[0m\u001b[0;34m(\u001b[0m\u001b[0mi\u001b[0m\u001b[0;34m+\u001b[0m\u001b[0;36m1\u001b[0m\u001b[0;34m)\u001b[0m\u001b[0;34m]\u001b[0m \u001b[0;34m=\u001b[0m \u001b[0mspec_trans\u001b[0m \u001b[0;31m#spec name\u001b[0m\u001b[0;34m\u001b[0m\u001b[0;34m\u001b[0m\u001b[0m\n\u001b[0m\u001b[1;32m     88\u001b[0m       \u001b[0mprint\u001b[0m\u001b[0;34m(\u001b[0m\u001b[0mspec_trans\u001b[0m\u001b[0;34m)\u001b[0m\u001b[0;34m\u001b[0m\u001b[0;34m\u001b[0m\u001b[0m\n\u001b[1;32m     89\u001b[0m       \u001b[0mprint\u001b[0m\u001b[0;34m(\u001b[0m\u001b[0mspec_sin\u001b[0m\u001b[0;34m)\u001b[0m\u001b[0;34m\u001b[0m\u001b[0;34m\u001b[0m\u001b[0m\n",
            "\u001b[0;32m/usr/local/lib/python3.10/dist-packages/pandas/core/indexing.py\u001b[0m in \u001b[0;36m__setitem__\u001b[0;34m(self, key, value)\u001b[0m\n\u001b[1;32m    847\u001b[0m \u001b[0;34m\u001b[0m\u001b[0m\n\u001b[1;32m    848\u001b[0m         \u001b[0miloc\u001b[0m \u001b[0;34m=\u001b[0m \u001b[0mself\u001b[0m \u001b[0;32mif\u001b[0m \u001b[0mself\u001b[0m\u001b[0;34m.\u001b[0m\u001b[0mname\u001b[0m \u001b[0;34m==\u001b[0m \u001b[0;34m\"iloc\"\u001b[0m \u001b[0;32melse\u001b[0m \u001b[0mself\u001b[0m\u001b[0;34m.\u001b[0m\u001b[0mobj\u001b[0m\u001b[0;34m.\u001b[0m\u001b[0miloc\u001b[0m\u001b[0;34m\u001b[0m\u001b[0;34m\u001b[0m\u001b[0m\n\u001b[0;32m--> 849\u001b[0;31m         \u001b[0miloc\u001b[0m\u001b[0;34m.\u001b[0m\u001b[0m_setitem_with_indexer\u001b[0m\u001b[0;34m(\u001b[0m\u001b[0mindexer\u001b[0m\u001b[0;34m,\u001b[0m \u001b[0mvalue\u001b[0m\u001b[0;34m,\u001b[0m \u001b[0mself\u001b[0m\u001b[0;34m.\u001b[0m\u001b[0mname\u001b[0m\u001b[0;34m)\u001b[0m\u001b[0;34m\u001b[0m\u001b[0;34m\u001b[0m\u001b[0m\n\u001b[0m\u001b[1;32m    850\u001b[0m \u001b[0;34m\u001b[0m\u001b[0m\n\u001b[1;32m    851\u001b[0m     \u001b[0;32mdef\u001b[0m \u001b[0m_validate_key\u001b[0m\u001b[0;34m(\u001b[0m\u001b[0mself\u001b[0m\u001b[0;34m,\u001b[0m \u001b[0mkey\u001b[0m\u001b[0;34m,\u001b[0m \u001b[0maxis\u001b[0m\u001b[0;34m:\u001b[0m \u001b[0mAxisInt\u001b[0m\u001b[0;34m)\u001b[0m\u001b[0;34m:\u001b[0m\u001b[0;34m\u001b[0m\u001b[0;34m\u001b[0m\u001b[0m\n",
            "\u001b[0;32m/usr/local/lib/python3.10/dist-packages/pandas/core/indexing.py\u001b[0m in \u001b[0;36m_setitem_with_indexer\u001b[0;34m(self, indexer, value, name)\u001b[0m\n\u001b[1;32m   1823\u001b[0m \u001b[0;34m\u001b[0m\u001b[0m\n\u001b[1;32m   1824\u001b[0m             \u001b[0;32mif\u001b[0m \u001b[0mmissing\u001b[0m\u001b[0;34m:\u001b[0m\u001b[0;34m\u001b[0m\u001b[0;34m\u001b[0m\u001b[0m\n\u001b[0;32m-> 1825\u001b[0;31m                 \u001b[0mself\u001b[0m\u001b[0;34m.\u001b[0m\u001b[0m_setitem_with_indexer_missing\u001b[0m\u001b[0;34m(\u001b[0m\u001b[0mindexer\u001b[0m\u001b[0;34m,\u001b[0m \u001b[0mvalue\u001b[0m\u001b[0;34m)\u001b[0m\u001b[0;34m\u001b[0m\u001b[0;34m\u001b[0m\u001b[0m\n\u001b[0m\u001b[1;32m   1826\u001b[0m                 \u001b[0;32mreturn\u001b[0m\u001b[0;34m\u001b[0m\u001b[0;34m\u001b[0m\u001b[0m\n\u001b[1;32m   1827\u001b[0m \u001b[0;34m\u001b[0m\u001b[0m\n",
            "\u001b[0;32m/usr/local/lib/python3.10/dist-packages/pandas/core/indexing.py\u001b[0m in \u001b[0;36m_setitem_with_indexer_missing\u001b[0;34m(self, indexer, value)\u001b[0m\n\u001b[1;32m   2156\u001b[0m                     \u001b[0;31m# must have conforming columns\u001b[0m\u001b[0;34m\u001b[0m\u001b[0;34m\u001b[0m\u001b[0m\n\u001b[1;32m   2157\u001b[0m                     \u001b[0;32mif\u001b[0m \u001b[0mlen\u001b[0m\u001b[0;34m(\u001b[0m\u001b[0mvalue\u001b[0m\u001b[0;34m)\u001b[0m \u001b[0;34m!=\u001b[0m \u001b[0mlen\u001b[0m\u001b[0;34m(\u001b[0m\u001b[0mself\u001b[0m\u001b[0;34m.\u001b[0m\u001b[0mobj\u001b[0m\u001b[0;34m.\u001b[0m\u001b[0mcolumns\u001b[0m\u001b[0;34m)\u001b[0m\u001b[0;34m:\u001b[0m\u001b[0;34m\u001b[0m\u001b[0;34m\u001b[0m\u001b[0m\n\u001b[0;32m-> 2158\u001b[0;31m                         \u001b[0;32mraise\u001b[0m \u001b[0mValueError\u001b[0m\u001b[0;34m(\u001b[0m\u001b[0;34m\"cannot set a row with mismatched columns\"\u001b[0m\u001b[0;34m)\u001b[0m\u001b[0;34m\u001b[0m\u001b[0;34m\u001b[0m\u001b[0m\n\u001b[0m\u001b[1;32m   2159\u001b[0m \u001b[0;34m\u001b[0m\u001b[0m\n\u001b[1;32m   2160\u001b[0m                 \u001b[0mvalue\u001b[0m \u001b[0;34m=\u001b[0m \u001b[0mSeries\u001b[0m\u001b[0;34m(\u001b[0m\u001b[0mvalue\u001b[0m\u001b[0;34m,\u001b[0m \u001b[0mindex\u001b[0m\u001b[0;34m=\u001b[0m\u001b[0mself\u001b[0m\u001b[0;34m.\u001b[0m\u001b[0mobj\u001b[0m\u001b[0;34m.\u001b[0m\u001b[0mcolumns\u001b[0m\u001b[0;34m,\u001b[0m \u001b[0mname\u001b[0m\u001b[0;34m=\u001b[0m\u001b[0mindexer\u001b[0m\u001b[0;34m)\u001b[0m\u001b[0;34m\u001b[0m\u001b[0;34m\u001b[0m\u001b[0m\n",
            "\u001b[0;31mValueError\u001b[0m: cannot set a row with mismatched columns"
          ]
        }
      ]
    },
    {
      "cell_type": "code",
      "source": [
        "os.listdir()"
      ],
      "metadata": {
        "id": "KMxyjXkS-zhx",
        "outputId": "0854a680-5916-43e4-c120-c7966bb307f7",
        "colab": {
          "base_uri": "https://localhost:8080/"
        }
      },
      "execution_count": 24,
      "outputs": [
        {
          "output_type": "execute_result",
          "data": {
            "text/plain": [
              "['.config',\n",
              " 'BAS_100_001_2023-06-14T09-58-46.asp',\n",
              " 'BAS_Buffer_001_2023-06-13T15-54-39.asp',\n",
              " 'BAS_Water_2023-06-13T15-51-57.asp',\n",
              " 'BAS_Buffer_001_2023-06-13T15-56-35.asp',\n",
              " 'BAS_25_001_2023-06-14T09-55-56.asp',\n",
              " 'sample_data']"
            ]
          },
          "metadata": {},
          "execution_count": 24
        }
      ]
    },
    {
      "cell_type": "code",
      "source": [],
      "metadata": {
        "id": "hRa7lU9G-06t"
      },
      "execution_count": null,
      "outputs": []
    }
  ]
}